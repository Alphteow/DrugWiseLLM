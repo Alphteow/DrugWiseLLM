{
 "cells": [
  {
   "cell_type": "code",
   "execution_count": 9,
   "metadata": {},
   "outputs": [],
   "source": [
    "LANGSMITH_TRACING=True\n",
    "LANGSMITH_ENDPOINT=\"https://api.smith.langchain.com\"\n",
    "LANGSMITH_PROJECT=\"DrugWise\""
   ]
  },
  {
   "cell_type": "code",
   "execution_count": 18,
   "metadata": {},
   "outputs": [
    {
     "data": {
      "text/plain": [
       "AIMessage(content='Hello! How can I assist you today?', additional_kwargs={'refusal': None}, response_metadata={'token_usage': {'completion_tokens': 10, 'prompt_tokens': 11, 'total_tokens': 21, 'completion_tokens_details': {'accepted_prediction_tokens': 0, 'audio_tokens': 0, 'reasoning_tokens': 0, 'rejected_prediction_tokens': 0}, 'prompt_tokens_details': {'audio_tokens': 0, 'cached_tokens': 0}}, 'model_name': 'gpt-3.5-turbo-0125', 'system_fingerprint': None, 'finish_reason': 'stop', 'logprobs': None}, id='run-80b428da-9203-455d-9632-1bc87cb325cc-0', usage_metadata={'input_tokens': 11, 'output_tokens': 10, 'total_tokens': 21, 'input_token_details': {'audio': 0, 'cache_read': 0}, 'output_token_details': {'audio': 0, 'reasoning': 0}})"
      ]
     },
     "execution_count": 18,
     "metadata": {},
     "output_type": "execute_result"
    }
   ],
   "source": [
    "from langchain_openai import ChatOpenAI\n",
    "from dotenv import load_dotenv\n",
    "import os\n",
    "\n",
    "OPENAI_API_KEY = os.getenv(\"OPENAI_API_KEY\")\n",
    "LANGSMITH_API_KEY = os.getenv(\"LANGSMITH_API_KEY\")\n",
    "\n",
    "llm = ChatOpenAI(openai_api_key=OPENAI_API_KEY)\n",
    "llm.invoke(\"Hello, world!\")\n"
   ]
  },
  {
   "cell_type": "code",
   "execution_count": 19,
   "metadata": {},
   "outputs": [
    {
     "data": {
      "text/html": [
       "<div>\n",
       "<style scoped>\n",
       "    .dataframe tbody tr th:only-of-type {\n",
       "        vertical-align: middle;\n",
       "    }\n",
       "\n",
       "    .dataframe tbody tr th {\n",
       "        vertical-align: top;\n",
       "    }\n",
       "\n",
       "    .dataframe thead th {\n",
       "        text-align: right;\n",
       "    }\n",
       "</style>\n",
       "<table border=\"1\" class=\"dataframe\">\n",
       "  <thead>\n",
       "    <tr style=\"text-align: right;\">\n",
       "      <th></th>\n",
       "      <th>DDInterID_A</th>\n",
       "      <th>Drug_A</th>\n",
       "      <th>DDInterID_B</th>\n",
       "      <th>Drug_B</th>\n",
       "      <th>Level</th>\n",
       "    </tr>\n",
       "  </thead>\n",
       "  <tbody>\n",
       "    <tr>\n",
       "      <th>0</th>\n",
       "      <td>DDInter1263</td>\n",
       "      <td>Naltrexone</td>\n",
       "      <td>DDInter1</td>\n",
       "      <td>Abacavir</td>\n",
       "      <td>Moderate</td>\n",
       "    </tr>\n",
       "    <tr>\n",
       "      <th>1</th>\n",
       "      <td>DDInter1</td>\n",
       "      <td>Abacavir</td>\n",
       "      <td>DDInter1348</td>\n",
       "      <td>Orlistat</td>\n",
       "      <td>Moderate</td>\n",
       "    </tr>\n",
       "    <tr>\n",
       "      <th>2</th>\n",
       "      <td>DDInter58</td>\n",
       "      <td>Aluminum hydroxide</td>\n",
       "      <td>DDInter582</td>\n",
       "      <td>Dolutegravir</td>\n",
       "      <td>Major</td>\n",
       "    </tr>\n",
       "    <tr>\n",
       "      <th>3</th>\n",
       "      <td>DDInter112</td>\n",
       "      <td>Aprepitant</td>\n",
       "      <td>DDInter582</td>\n",
       "      <td>Dolutegravir</td>\n",
       "      <td>Minor</td>\n",
       "    </tr>\n",
       "    <tr>\n",
       "      <th>4</th>\n",
       "      <td>DDInter138</td>\n",
       "      <td>Attapulgite</td>\n",
       "      <td>DDInter582</td>\n",
       "      <td>Dolutegravir</td>\n",
       "      <td>Major</td>\n",
       "    </tr>\n",
       "  </tbody>\n",
       "</table>\n",
       "</div>"
      ],
      "text/plain": [
       "   DDInterID_A              Drug_A  DDInterID_B        Drug_B     Level\n",
       "0  DDInter1263          Naltrexone     DDInter1      Abacavir  Moderate\n",
       "1     DDInter1            Abacavir  DDInter1348      Orlistat  Moderate\n",
       "2    DDInter58  Aluminum hydroxide   DDInter582  Dolutegravir     Major\n",
       "3   DDInter112          Aprepitant   DDInter582  Dolutegravir     Minor\n",
       "4   DDInter138         Attapulgite   DDInter582  Dolutegravir     Major"
      ]
     },
     "execution_count": 19,
     "metadata": {},
     "output_type": "execute_result"
    }
   ],
   "source": [
    "import pandas as pd\n",
    "\n",
    "file_path = \"ddinter_downloads_code_A.csv\"\n",
    "data = pd.read_csv(file_path)\n",
    "\n",
    "data.head(5)\n"
   ]
  },
  {
   "cell_type": "code",
   "execution_count": 17,
   "metadata": {},
   "outputs": [
    {
     "ename": "NameError",
     "evalue": "name 'file_path' is not defined",
     "output_type": "error",
     "traceback": [
      "\u001b[0;31m---------------------------------------------------------------------------\u001b[0m",
      "\u001b[0;31mNameError\u001b[0m                                 Traceback (most recent call last)",
      "Cell \u001b[0;32mIn[17], line 3\u001b[0m\n\u001b[1;32m      1\u001b[0m \u001b[38;5;28;01mfrom\u001b[39;00m\u001b[38;5;250m \u001b[39m\u001b[38;5;21;01mlangchain_community\u001b[39;00m\u001b[38;5;21;01m.\u001b[39;00m\u001b[38;5;21;01mdocument_loaders\u001b[39;00m\u001b[38;5;21;01m.\u001b[39;00m\u001b[38;5;21;01mcsv_loader\u001b[39;00m\u001b[38;5;250m \u001b[39m\u001b[38;5;28;01mimport\u001b[39;00m CSVLoader\n\u001b[0;32m----> 3\u001b[0m loader \u001b[38;5;241m=\u001b[39m CSVLoader(\u001b[43mfile_path\u001b[49m)\n\u001b[1;32m      4\u001b[0m docs \u001b[38;5;241m=\u001b[39m loader\u001b[38;5;241m.\u001b[39mload_and_split()\n",
      "\u001b[0;31mNameError\u001b[0m: name 'file_path' is not defined"
     ]
    }
   ],
   "source": [
    "from langchain_community.document_loaders.csv_loader import CSVLoader\n",
    "\n",
    "loader = CSVLoader(file_path)\n",
    "docs = loader.load_and_split()"
   ]
  },
  {
   "cell_type": "code",
   "execution_count": 11,
   "metadata": {},
   "outputs": [
    {
     "name": "stdout",
     "output_type": "stream",
     "text": [
      "View the evaluation results for experiment: 'Code A experiment -7ff69383' at:\n",
      "https://smith.langchain.com/o/c5d9bef5-193b-4c3d-bac9-30252121ad79/datasets/cd7a8390-f929-4d36-ae70-e0225c9bf3c2/compare?selectedSessions=3001d83a-b18e-4041-895a-539258113e67\n",
      "\n",
      "\n"
     ]
    },
    {
     "name": "stderr",
     "output_type": "stream",
     "text": [
      "56367it [08:03, 116.64it/s]\n"
     ]
    },
    {
     "data": {
      "text/html": [
       "<ExperimentResults Code A experiment -7ff69383>"
      ],
      "text/plain": [
       "<ExperimentResults Code A experiment -7ff69383>"
      ]
     },
     "execution_count": 11,
     "metadata": {},
     "output_type": "execute_result"
    }
   ],
   "source": [
    "from langsmith import evaluate, Client\n",
    "\n",
    "# 1. Create and/or select your dataset\n",
    "client = Client()\n",
    "dataset_name = \"Code A\"\n",
    "\n",
    "# 2. Define an evaluator\n",
    "def exact_match(outputs: dict, reference_outputs: dict) -> bool:\n",
    "    return outputs == reference_outputs\n",
    "\n",
    "# 3. Run an evaluation\n",
    "# For more info on evaluators, see: https://docs.smith.langchain.com/concepts/evaluation#evaluators\n",
    "\n",
    "# To evaluate an LCEL chain, replace lambda with chain.invoke\n",
    "# To evaluate a LangGraph graph, replace lambda with graph.invoke\n",
    "evaluate(\n",
    "    lambda x: f'What drug does {x[\"Drug_A\"]} interact with, and what is the level of interaction? Provide the response in the following JSON format: Level: <Level of Interaction>, Drug_B: <Interacting Drug>, DDInterID_B: <Interaction ID>',\n",
    "    # chain.invoke\n",
    "    # graph.invoke\n",
    "    data=dataset_name,\n",
    "    evaluators=[exact_match],\n",
    "    experiment_prefix=\"Code A experiment \"\n",
    ")"
   ]
  }
 ],
 "metadata": {
  "kernelspec": {
   "display_name": "venv",
   "language": "python",
   "name": "python3"
  },
  "language_info": {
   "codemirror_mode": {
    "name": "ipython",
    "version": 3
   },
   "file_extension": ".py",
   "mimetype": "text/x-python",
   "name": "python",
   "nbconvert_exporter": "python",
   "pygments_lexer": "ipython3",
   "version": "3.9.10"
  }
 },
 "nbformat": 4,
 "nbformat_minor": 2
}
